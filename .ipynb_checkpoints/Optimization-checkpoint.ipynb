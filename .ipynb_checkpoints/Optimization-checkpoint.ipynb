{
 "cells": [
  {
   "cell_type": "code",
   "execution_count": 1,
   "metadata": {
    "collapsed": true
   },
   "outputs": [],
   "source": [
    "#!/usr/bin/env python\n",
    "# -*- coding: utf-8 -*-\n",
    "#\n",
    "#------------------------------------\n",
    "# Author: Takumario\n",
    "# Mail: sakamoto.takuma@ac.jaxa.jp\n",
    "# Date: 2017/09/26\n",
    "#------------------------------------\n",
    "#\n",
    "import numpy as np"
   ]
  },
  {
   "cell_type": "code",
   "execution_count": null,
   "metadata": {},
   "outputs": [],
   "source": [
    "class Optimize():\n",
    "    \"\"\"Optimize the evaluate function by brute-force serch\"\"\"\n",
    "    \n",
    "    def __init__(self):\n",
    "        self.N = 1\n",
    "        self.d = 1\n",
    "        self.D = 1\n",
    "        self.n = 1\n",
    "        self.k = 1\n",
    "        self.L = 1\n",
    "        self.N_fin = 10\n",
    "        self.d_fin = 10\n",
    "        self.D_fin = 10\n",
    "        self.n_fin = 10\n",
    "        self.k_fin = 10\n",
    "        self.L_fin = 10\n",
    "        self.N_spn = 1\n",
    "        self.d_spn = 1\n",
    "        self.D_spn = 1\n",
    "        self.n_spn = 1\n",
    "        self.k_spn = 1\n",
    "        self.L_spn = 1\n",
    "\n",
    "    def BruteSearch(self):\n",
    "        self.testvalue = 0\n",
    "        print \"Brute-force Search start\"\n",
    "        while(self.N <= self.N_fin):\n",
    "#             while(self.d <= self.d_fin):\n",
    "#                while(self.D <= self.D_fin):\n",
    "#                     while(self.n <= self.n_fin):\n",
    "#                        while(self.k <= self.k_fin):\n",
    "#                            self.loop1 = self.L\n",
    "#                            while(self.L <= self.L_fin):\n",
    "#                                print \"Numbre of loop1 = {0}\".format{self.L}\n",
    "#                                self.testvalue += 1\n",
    "#                                self.loop1 += self.L_spn\n",
    "#                            self.k += self.k_spn\n",
    "#                        self.n += self.n_spn\n",
    "#                     self.D += self.D_spn\n",
    "#                self.d += self.d_spn\n",
    "             self.N += self.N_spn\n",
    "        print self.testvalue"
   ]
  },
  {
   "cell_type": "code",
   "execution_count": null,
   "metadata": {},
   "outputs": [],
   "source": [
    "Test = Optimize()\n",
    "Test.BruteSearch()"
   ]
  },
  {
   "cell_type": "code",
   "execution_count": null,
   "metadata": {
    "collapsed": true
   },
   "outputs": [],
   "source": [
    "Test.L"
   ]
  },
  {
   "cell_type": "code",
   "execution_count": null,
   "metadata": {
    "collapsed": true
   },
   "outputs": [],
   "source": []
  }
 ],
 "metadata": {
  "kernelspec": {
   "display_name": "Python 2",
   "language": "python",
   "name": "python2"
  },
  "language_info": {
   "codemirror_mode": {
    "name": "ipython",
    "version": 2
   },
   "file_extension": ".py",
   "mimetype": "text/x-python",
   "name": "python",
   "nbconvert_exporter": "python",
   "pygments_lexer": "ipython2",
   "version": "2.7.12"
  }
 },
 "nbformat": 4,
 "nbformat_minor": 2
}
