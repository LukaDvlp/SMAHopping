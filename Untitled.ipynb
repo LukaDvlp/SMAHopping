{
 "cells": [
  {
   "cell_type": "code",
   "execution_count": 2,
   "metadata": {},
   "outputs": [],
   "source": [
    "from numpy import sin, cos, pi\n",
    "import numpy as np\n",
    "phi1 = 39.05 / 360 * 2* pi\n",
    "phi2 = 257.7 / 360 * 2* pi\n",
    "R1 = np.matrix([[cos(phi1), -sin(phi1)],[sin(phi1), cos(phi1)]])\n",
    "R2 = np.matrix([[cos(phi2), -sin(phi2)],[sin(phi2), cos(phi2)]])"
   ]
  },
  {
   "cell_type": "code",
   "execution_count": 8,
   "metadata": {
    "collapsed": true
   },
   "outputs": [],
   "source": [
    "del_AE = 0.05\n",
    "th0 = 45\n",
    "L = 0.1"
   ]
  },
  {
   "cell_type": "code",
   "execution_count": 6,
   "metadata": {},
   "outputs": [],
   "source": [
    "P1 = np.array([[del_AE*cos(th0)],[del_AE*sin(th0)]])"
   ]
  },
  {
   "cell_type": "code",
   "execution_count": 9,
   "metadata": {},
   "outputs": [],
   "source": [
    "P3 = 1/del_AE * R1 * P1 * L + P1\n",
    "P4 = 1/del_AE * R2 * P1 * L + P1"
   ]
  },
  {
   "cell_type": "code",
   "execution_count": 13,
   "metadata": {},
   "outputs": [
    {
     "data": {
      "text/plain": [
       "matrix([[ 0.01345564]])"
      ]
     },
     "execution_count": 13,
     "metadata": {},
     "output_type": "execute_result"
    }
   ],
   "source": [
    "P3[0][0]"
   ]
  },
  {
   "cell_type": "code",
   "execution_count": null,
   "metadata": {
    "collapsed": true
   },
   "outputs": [],
   "source": []
  }
 ],
 "metadata": {
  "kernelspec": {
   "display_name": "Python 2",
   "language": "python",
   "name": "python2"
  },
  "language_info": {
   "codemirror_mode": {
    "name": "ipython",
    "version": 2
   },
   "file_extension": ".py",
   "mimetype": "text/x-python",
   "name": "python",
   "nbconvert_exporter": "python",
   "pygments_lexer": "ipython2",
   "version": "2.7.12"
  }
 },
 "nbformat": 4,
 "nbformat_minor": 2
}
