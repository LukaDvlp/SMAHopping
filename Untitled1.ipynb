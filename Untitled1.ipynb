{
 "cells": [
  {
   "cell_type": "code",
   "execution_count": null,
   "metadata": {},
   "outputs": [],
   "source": [
    "N = 1\n",
    "d = 1\n",
    "D = 1\n",
    "n = 1\n",
    "k = 1\n",
    "L = 1\n",
    "N_fin = 10\n",
    "d_fin = 10\n",
    "D_fin = 10\n",
    "n_fin = 10\n",
    "k_fin = 10\n",
    "L_fin = 10\n",
    "N_spn = 1\n",
    "d_spn = 1\n",
    "D_spn = 1\n",
    "n_spn = 1\n",
    "k_spn = 1\n",
    "L_spn = 1\n",
    "A = 0\n",
    "print \"Brute-force Search start\"\n",
    "while N < N_fin :\n",
    "    A += 1\n",
    "    N += N_spn\n",
    "#             while(self.d <= self.d_fin):\n",
    "#                while(self.D <= self.D_fin):\n",
    "#                     while(self.n <= self.n_fin):\n",
    "#                        while(self.k <= self.k_fin):\n",
    "#                            self.loop1 = self.L\n",
    "#                            while(self.L <= self.L_fin):\n",
    "#                                print \"Numbre of loop1 = {0}\".format{self.L}\n",
    "#                                self.testvalue += 1\n",
    "#                                self.loop1 += self.L_spn\n",
    "#                            self.k += self.k_spn\n",
    "#                        self.n += self.n_spn\n",
    "#                     self.D += self.D_spn\n",
    "#                self.d += self.d_spn\n",
    "    "
   ]
  },
  {
   "cell_type": "code",
   "execution_count": null,
   "metadata": {
    "collapsed": true
   },
   "outputs": [],
   "source": [
    "testvalue"
   ]
  },
  {
   "cell_type": "code",
   "execution_count": null,
   "metadata": {
    "collapsed": true
   },
   "outputs": [],
   "source": [
    "k = 1\n",
    "while k < 10:\n",
    "    print \"k\""
   ]
  },
  {
   "cell_type": "code",
   "execution_count": null,
   "metadata": {
    "collapsed": true
   },
   "outputs": [],
   "source": [
    "k"
   ]
  },
  {
   "cell_type": "code",
   "execution_count": null,
   "metadata": {
    "collapsed": true
   },
   "outputs": [],
   "source": [
    "Value = 0\n",
    "k = 0\n",
    "print \"Brute-force Search start\"\n",
    "while (k <= 10):\n",
    "    Value += 1\n",
    "    print Value\n",
    "    k += 1\n",
    "print Value"
   ]
  },
  {
   "cell_type": "code",
   "execution_count": null,
   "metadata": {
    "collapsed": true
   },
   "outputs": [],
   "source": [
    "Value"
   ]
  },
  {
   "cell_type": "code",
   "execution_count": null,
   "metadata": {
    "collapsed": true
   },
   "outputs": [],
   "source": []
  }
 ],
 "metadata": {
  "kernelspec": {
   "display_name": "Python 2",
   "language": "python",
   "name": "python2"
  },
  "language_info": {
   "codemirror_mode": {
    "name": "ipython",
    "version": 2
   },
   "file_extension": ".py",
   "mimetype": "text/x-python",
   "name": "python",
   "nbconvert_exporter": "python",
   "pygments_lexer": "ipython2",
   "version": "2.7.12"
  }
 },
 "nbformat": 4,
 "nbformat_minor": 2
}
